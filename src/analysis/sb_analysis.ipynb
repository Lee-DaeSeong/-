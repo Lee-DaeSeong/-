{
 "cells": [
  {
   "cell_type": "code",
   "execution_count": 2,
   "id": "328f9275",
   "metadata": {},
   "outputs": [],
   "source": [
    "import csv\n",
    "\n",
    "f = open(\"서울_결과.csv\", \"r\", encoding=\"utf-8-sig\", newline=\"\")\n",
    "rdr = csv.reader(f)\n",
    "rdr = list(rdr)\n",
    "rdr.pop(0)\n",
    "rdr.pop(0)\n",
    "\n",
    "i=0\n",
    "gu=''\n",
    "mean=0\n",
    "count=0\n",
    "j=0\n",
    "\n",
    "res_f = open(\"서울.csv\", \"w\", encoding=\"utf-8-sig\", newline=\"\")\n",
    "csv_writer = csv.writer(res_f)\n",
    "csv_writer.writerow(['구', '평균 매출액 차이', '평균 건수 차이'])\n",
    "\n",
    "for line in rdr:\n",
    "    if i==0:\n",
    "        gu=line[0]\n",
    "    if i==1:\n",
    "        mean=sum(list(map(int, line[1:])))//6\n",
    "    if i==2:\n",
    "        count=sum(list(map(int, line[1:])))//6\n",
    "    i+=1\n",
    "    if i==3 and j<25:\n",
    "        j+=1\n",
    "        i=0\n",
    "        csv_writer.writerow([gu, mean, count])\n"
   ]
  },
  {
   "cell_type": "code",
   "execution_count": 24,
   "id": "1b3dc378",
   "metadata": {},
   "outputs": [],
   "source": [
    "import csv\n",
    "\n",
    "f = open(\"울산_결과.csv\", \"r\", encoding=\"utf-8-sig\", newline=\"\")\n",
    "rdr = csv.reader(f)\n",
    "rdr = list(rdr)\n",
    "rdr.pop(0)\n",
    "rdr.pop(0)\n",
    "\n",
    "i=0\n",
    "gu=''\n",
    "mean=0\n",
    "count=0\n",
    "j=0\n",
    "\n",
    "res_f = open(\"울산.csv\", \"w\", encoding=\"utf-8-sig\", newline=\"\")\n",
    "csv_writer = csv.writer(res_f)\n",
    "csv_writer.writerow(['구', '평균 매출액 차이', '평균 건수 차이'])\n",
    "\n",
    "for line in rdr:\n",
    "    if i==0:\n",
    "        gu=line[0]\n",
    "    if i==1:\n",
    "        mean=sum(list(map(int, line[1:])))//6\n",
    "    if i==2:\n",
    "        count=sum(list(map(int, line[1:])))//6\n",
    "    i+=1\n",
    "    if i==3 and j<5:\n",
    "        j+=1\n",
    "        i=0\n",
    "        csv_writer.writerow([gu, mean, count])\n"
   ]
  },
  {
   "cell_type": "code",
   "execution_count": 4,
   "id": "0df51321",
   "metadata": {},
   "outputs": [],
   "source": [
    "import csv\n",
    "import numpy as np\n",
    "import pandas as pd\n",
    "import matplotlib.pyplot as plt\n",
    "import seaborn as sns; sns.set()  # for plot styling\n",
    "import numpy as np\n",
    "import platform\n",
    "\n",
    "from matplotlib import font_manager, rc\n",
    "plt.rcParams['axes.unicode_minus'] = False\n",
    "\n",
    "if platform.system() == 'Darwin':\n",
    "    rc('font', family='AppleGothic')\n",
    "elif platform.system() == 'Windows':\n",
    "    path = \"c:/Windows/Fonts/malgun.ttf\"\n",
    "    font_name = font_manager.FontProperties(fname=path).get_name()\n",
    "    rc('font', family=font_name)\n",
    "else:\n",
    "    print('Unknown system... sorry~~~~') "
   ]
  },
  {
   "cell_type": "code",
   "execution_count": 15,
   "id": "dbc9cda9",
   "metadata": {},
   "outputs": [
    {
     "data": {
      "text/html": [
       "<div>\n",
       "<style scoped>\n",
       "    .dataframe tbody tr th:only-of-type {\n",
       "        vertical-align: middle;\n",
       "    }\n",
       "\n",
       "    .dataframe tbody tr th {\n",
       "        vertical-align: top;\n",
       "    }\n",
       "\n",
       "    .dataframe thead th {\n",
       "        text-align: right;\n",
       "    }\n",
       "</style>\n",
       "<table border=\"1\" class=\"dataframe\">\n",
       "  <thead>\n",
       "    <tr style=\"text-align: right;\">\n",
       "      <th></th>\n",
       "      <th>평균 매출액 차이</th>\n",
       "      <th>평균 건수 차이</th>\n",
       "    </tr>\n",
       "    <tr>\n",
       "      <th>구</th>\n",
       "      <th></th>\n",
       "      <th></th>\n",
       "    </tr>\n",
       "  </thead>\n",
       "  <tbody>\n",
       "    <tr>\n",
       "      <th>강남구</th>\n",
       "      <td>43</td>\n",
       "      <td>-4</td>\n",
       "    </tr>\n",
       "    <tr>\n",
       "      <th>강동구</th>\n",
       "      <td>261</td>\n",
       "      <td>547</td>\n",
       "    </tr>\n",
       "    <tr>\n",
       "      <th>강북구</th>\n",
       "      <td>-143</td>\n",
       "      <td>-94</td>\n",
       "    </tr>\n",
       "    <tr>\n",
       "      <th>강서구</th>\n",
       "      <td>255</td>\n",
       "      <td>338</td>\n",
       "    </tr>\n",
       "    <tr>\n",
       "      <th>관악구</th>\n",
       "      <td>620</td>\n",
       "      <td>901</td>\n",
       "    </tr>\n",
       "    <tr>\n",
       "      <th>광진구</th>\n",
       "      <td>444</td>\n",
       "      <td>500</td>\n",
       "    </tr>\n",
       "    <tr>\n",
       "      <th>구로구</th>\n",
       "      <td>567</td>\n",
       "      <td>920</td>\n",
       "    </tr>\n",
       "    <tr>\n",
       "      <th>금천구</th>\n",
       "      <td>146</td>\n",
       "      <td>351</td>\n",
       "    </tr>\n",
       "    <tr>\n",
       "      <th>노원구</th>\n",
       "      <td>361</td>\n",
       "      <td>734</td>\n",
       "    </tr>\n",
       "    <tr>\n",
       "      <th>도봉구</th>\n",
       "      <td>167</td>\n",
       "      <td>559</td>\n",
       "    </tr>\n",
       "    <tr>\n",
       "      <th>동대문구</th>\n",
       "      <td>67</td>\n",
       "      <td>259</td>\n",
       "    </tr>\n",
       "    <tr>\n",
       "      <th>동작구</th>\n",
       "      <td>-77</td>\n",
       "      <td>1</td>\n",
       "    </tr>\n",
       "    <tr>\n",
       "      <th>마포구</th>\n",
       "      <td>185</td>\n",
       "      <td>534</td>\n",
       "    </tr>\n",
       "    <tr>\n",
       "      <th>서대문구</th>\n",
       "      <td>449</td>\n",
       "      <td>754</td>\n",
       "    </tr>\n",
       "    <tr>\n",
       "      <th>서초구</th>\n",
       "      <td>134</td>\n",
       "      <td>381</td>\n",
       "    </tr>\n",
       "    <tr>\n",
       "      <th>성동구</th>\n",
       "      <td>39</td>\n",
       "      <td>75</td>\n",
       "    </tr>\n",
       "    <tr>\n",
       "      <th>성북구</th>\n",
       "      <td>178</td>\n",
       "      <td>336</td>\n",
       "    </tr>\n",
       "    <tr>\n",
       "      <th>송파구</th>\n",
       "      <td>330</td>\n",
       "      <td>311</td>\n",
       "    </tr>\n",
       "    <tr>\n",
       "      <th>양천구</th>\n",
       "      <td>1047</td>\n",
       "      <td>1762</td>\n",
       "    </tr>\n",
       "    <tr>\n",
       "      <th>영등포구</th>\n",
       "      <td>536</td>\n",
       "      <td>782</td>\n",
       "    </tr>\n",
       "    <tr>\n",
       "      <th>용산구</th>\n",
       "      <td>422</td>\n",
       "      <td>604</td>\n",
       "    </tr>\n",
       "    <tr>\n",
       "      <th>은평구</th>\n",
       "      <td>170</td>\n",
       "      <td>385</td>\n",
       "    </tr>\n",
       "    <tr>\n",
       "      <th>종로구</th>\n",
       "      <td>260</td>\n",
       "      <td>368</td>\n",
       "    </tr>\n",
       "    <tr>\n",
       "      <th>중구</th>\n",
       "      <td>153</td>\n",
       "      <td>284</td>\n",
       "    </tr>\n",
       "    <tr>\n",
       "      <th>중랑구</th>\n",
       "      <td>113</td>\n",
       "      <td>213</td>\n",
       "    </tr>\n",
       "  </tbody>\n",
       "</table>\n",
       "</div>"
      ],
      "text/plain": [
       "      평균 매출액 차이  평균 건수 차이\n",
       "구                        \n",
       "강남구          43        -4\n",
       "강동구         261       547\n",
       "강북구        -143       -94\n",
       "강서구         255       338\n",
       "관악구         620       901\n",
       "광진구         444       500\n",
       "구로구         567       920\n",
       "금천구         146       351\n",
       "노원구         361       734\n",
       "도봉구         167       559\n",
       "동대문구         67       259\n",
       "동작구         -77         1\n",
       "마포구         185       534\n",
       "서대문구        449       754\n",
       "서초구         134       381\n",
       "성동구          39        75\n",
       "성북구         178       336\n",
       "송파구         330       311\n",
       "양천구        1047      1762\n",
       "영등포구        536       782\n",
       "용산구         422       604\n",
       "은평구         170       385\n",
       "종로구         260       368\n",
       "중구          153       284\n",
       "중랑구         113       213"
      ]
     },
     "execution_count": 15,
     "metadata": {},
     "output_type": "execute_result"
    }
   ],
   "source": [
    "seoul_data=pd.read_csv('서울.csv', encoding='utf-8-sig')\n",
    "seoul_data=seoul_data.set_index('구')\n",
    "seoul_data"
   ]
  },
  {
   "cell_type": "code",
   "execution_count": 16,
   "id": "5c4b424f",
   "metadata": {},
   "outputs": [
    {
     "data": {
      "image/png": "[encoded data removed]",
      "text/plain": [
       "<Figure size 720x720 with 1 Axes>"
      ]
     },
     "metadata": {},
     "output_type": "display_data"
    }
   ],
   "source": [
    "plt.figure()\n",
    "seoul_data['평균 매출액 차이'].sort_values().plot(kind='barh', grid=True, figsize=(10, 10))\n",
    "plt.title('평균 매출액 차이')\n",
    "plt.xlabel('단위: 만원')\n",
    "plt.show()"
   ]
  },
  {
   "cell_type": "code",
   "execution_count": 17,
   "id": "5eaba310",
   "metadata": {},
   "outputs": [
    {
     "data": {
      "image/png": "[encoded data removed]",
      "text/plain": [
       "<Figure size 720x720 with 1 Axes>"
      ]
     },
     "metadata": {},
     "output_type": "display_data"
    }
   ],
   "source": [
    "plt.figure()\n",
    "seoul_data['평균 건수 차이'].sort_values().plot(kind='barh', grid=True, figsize=(10, 10))\n",
    "plt.title('평균 건수 차이')\n",
    "plt.xlabel('단위: 횟수')\n",
    "plt.show()"
   ]
  },
  {
   "cell_type": "code",
   "execution_count": 25,
   "id": "e8291701",
   "metadata": {},
   "outputs": [
    {
     "data": {
      "text/html": [
       "<div>\n",
       "<style scoped>\n",
       "    .dataframe tbody tr th:only-of-type {\n",
       "        vertical-align: middle;\n",
       "    }\n",
       "\n",
       "    .dataframe tbody tr th {\n",
       "        vertical-align: top;\n",
       "    }\n",
       "\n",
       "    .dataframe thead th {\n",
       "        text-align: right;\n",
       "    }\n",
       "</style>\n",
       "<table border=\"1\" class=\"dataframe\">\n",
       "  <thead>\n",
       "    <tr style=\"text-align: right;\">\n",
       "      <th></th>\n",
       "      <th>평균 매출액 차이</th>\n",
       "      <th>평균 건수 차이</th>\n",
       "    </tr>\n",
       "    <tr>\n",
       "      <th>구</th>\n",
       "      <th></th>\n",
       "      <th></th>\n",
       "    </tr>\n",
       "  </thead>\n",
       "  <tbody>\n",
       "    <tr>\n",
       "      <th>남구</th>\n",
       "      <td>77</td>\n",
       "      <td>52</td>\n",
       "    </tr>\n",
       "    <tr>\n",
       "      <th>동구</th>\n",
       "      <td>-162</td>\n",
       "      <td>83</td>\n",
       "    </tr>\n",
       "    <tr>\n",
       "      <th>북구</th>\n",
       "      <td>-302</td>\n",
       "      <td>-137</td>\n",
       "    </tr>\n",
       "    <tr>\n",
       "      <th>울주군</th>\n",
       "      <td>950</td>\n",
       "      <td>175</td>\n",
       "    </tr>\n",
       "    <tr>\n",
       "      <th>중구</th>\n",
       "      <td>90</td>\n",
       "      <td>129</td>\n",
       "    </tr>\n",
       "  </tbody>\n",
       "</table>\n",
       "</div>"
      ],
      "text/plain": [
       "     평균 매출액 차이  평균 건수 차이\n",
       "구                       \n",
       "남구          77        52\n",
       "동구        -162        83\n",
       "북구        -302      -137\n",
       "울주군        950       175\n",
       "중구          90       129"
      ]
     },
     "execution_count": 25,
     "metadata": {},
     "output_type": "execute_result"
    }
   ],
   "source": [
    "ulsan_data=pd.read_csv('울산.csv', encoding='utf-8-sig')\n",
    "ulsan_data=ulsan_data.set_index('구')\n",
    "ulsan_data"
   ]
  },
  {
   "cell_type": "code",
   "execution_count": 26,
   "id": "a9946192",
   "metadata": {},
   "outputs": [
    {
     "data": {
      "image/png": "[encoded data removed]",
      "text/plain": [
       "<Figure size 720x720 with 1 Axes>"
      ]
     },
     "metadata": {},
     "output_type": "display_data"
    }
   ],
   "source": [
    "plt.figure()\n",
    "ulsan_data['평균 매출액 차이'].sort_values().plot(kind='barh', grid=True, figsize=(10, 10))\n",
    "plt.title('평균 매출액 차이')\n",
    "plt.xlabel('단위: 만원')\n",
    "plt.show()"
   ]
  },
  {
   "cell_type": "code",
   "execution_count": 27,
   "id": "f6edfd22",
   "metadata": {},
   "outputs": [
    {
     "data": {
      "image/png": "[encoded data removed]",
      "text/plain": [
       "<Figure size 720x720 with 1 Axes>"
      ]
     },
     "metadata": {},
     "output_type": "display_data"
    }
   ],
   "source": [
    "plt.figure()\n",
    "ulsan_data['평균 건수 차이'].sort_values().plot(kind='barh', grid=True, figsize=(10, 10))\n",
    "plt.title('평균 건수 차이')\n",
    "plt.xlabel('단위: 횟수')\n",
    "plt.show()"
   ]
  },
  {
   "cell_type": "code",
   "execution_count": 29,
   "id": "11c2464b",
   "metadata": {},
   "outputs": [
    {
     "data": {
      "text/plain": [
       "269.08"
      ]
     },
     "execution_count": 29,
     "metadata": {},
     "output_type": "execute_result"
    }
   ],
   "source": [
    "seoul_data['평균 매출액 차이'].mean()"
   ]
  },
  {
   "cell_type": "code",
   "execution_count": 30,
   "id": "42cb6437",
   "metadata": {},
   "outputs": [
    {
     "data": {
      "text/plain": [
       "472.04"
      ]
     },
     "execution_count": 30,
     "metadata": {},
     "output_type": "execute_result"
    }
   ],
   "source": [
    "seoul_data['평균 건수 차이'].mean()"
   ]
  },
  {
   "cell_type": "code",
   "execution_count": 31,
   "id": "48872dca",
   "metadata": {},
   "outputs": [
    {
     "data": {
      "text/plain": [
       "130.6"
      ]
     },
     "execution_count": 31,
     "metadata": {},
     "output_type": "execute_result"
    }
   ],
   "source": [
    "ulsan_data['평균 매출액 차이'].mean()"
   ]
  },
  {
   "cell_type": "code",
   "execution_count": 32,
   "id": "cf876c03",
   "metadata": {},
   "outputs": [
    {
     "data": {
      "text/plain": [
       "60.4"
      ]
     },
     "execution_count": 32,
     "metadata": {},
     "output_type": "execute_result"
    }
   ],
   "source": [
    "ulsan_data['평균 건수 차이'].mean()"
   ]
  }
 ],
 "metadata": {
  "kernelspec": {
   "display_name": "Python 3",
   "language": "python",
   "name": "python3"
  },
  "language_info": {
   "codemirror_mode": {
    "name": "ipython",
    "version": 3
   },
   "file_extension": ".py",
   "mimetype": "text/x-python",
   "name": "python",
   "nbconvert_exporter": "python",
   "pygments_lexer": "ipython3",
   "version": "3.8.8"
  }
 },
 "nbformat": 4,
 "nbformat_minor": 5
}
