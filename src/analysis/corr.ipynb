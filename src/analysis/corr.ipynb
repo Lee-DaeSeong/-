{
 "cells": [
  {
   "cell_type": "code",
   "execution_count": 21,
   "id": "42b5fb4a",
   "metadata": {},
   "outputs": [],
   "source": [
    "import csv\n",
    "import numpy as np\n",
    "import pandas as pd\n",
    "import matplotlib.pyplot as plt\n",
    "import seaborn as sns; sns.set()  # for plot styling\n",
    "import numpy as np\n",
    "import platform\n",
    "from pandas import Series, DataFrame\n",
    "\n",
    "from matplotlib import font_manager, rc\n",
    "plt.rcParams['axes.unicode_minus'] = False\n",
    "\n",
    "if platform.system() == 'Darwin':\n",
    "    rc('font', family='AppleGothic')\n",
    "elif platform.system() == 'Windows':\n",
    "    path = \"c:/Windows/Fonts/malgun.ttf\"\n",
    "    font_name = font_manager.FontProperties(fname=path).get_name()\n",
    "    rc('font', family=font_name)\n",
    "else:\n",
    "    print('Unknown system... sorry~~~~') "
   ]
  },
  {
   "cell_type": "code",
   "execution_count": 23,
   "id": "499f3fb4",
   "metadata": {},
   "outputs": [
    {
     "data": {
      "text/html": [
       "<div>\n",
       "<style scoped>\n",
       "    .dataframe tbody tr th:only-of-type {\n",
       "        vertical-align: middle;\n",
       "    }\n",
       "\n",
       "    .dataframe tbody tr th {\n",
       "        vertical-align: top;\n",
       "    }\n",
       "\n",
       "    .dataframe thead th {\n",
       "        text-align: right;\n",
       "    }\n",
       "</style>\n",
       "<table border=\"1\" class=\"dataframe\">\n",
       "  <thead>\n",
       "    <tr style=\"text-align: right;\">\n",
       "      <th></th>\n",
       "      <th>상관 계수</th>\n",
       "    </tr>\n",
       "    <tr>\n",
       "      <th>변수</th>\n",
       "      <th></th>\n",
       "    </tr>\n",
       "  </thead>\n",
       "  <tbody>\n",
       "    <tr>\n",
       "      <th>임대료</th>\n",
       "      <td>0.491304</td>\n",
       "    </tr>\n",
       "    <tr>\n",
       "      <th>직장 인구</th>\n",
       "      <td>0.389373</td>\n",
       "    </tr>\n",
       "    <tr>\n",
       "      <th>음식점 수</th>\n",
       "      <td>0.246476</td>\n",
       "    </tr>\n",
       "    <tr>\n",
       "      <th>여성 비율</th>\n",
       "      <td>0.154522</td>\n",
       "    </tr>\n",
       "    <tr>\n",
       "      <th>소득 분위</th>\n",
       "      <td>0.090080</td>\n",
       "    </tr>\n",
       "    <tr>\n",
       "      <th>인구 수</th>\n",
       "      <td>-0.362479</td>\n",
       "    </tr>\n",
       "  </tbody>\n",
       "</table>\n",
       "</div>"
      ],
      "text/plain": [
       "          상관 계수\n",
       "변수             \n",
       "임대료    0.491304\n",
       "직장 인구  0.389373\n",
       "음식점 수  0.246476\n",
       "여성 비율  0.154522\n",
       "소득 분위  0.090080\n",
       "인구 수  -0.362479"
      ]
     },
     "execution_count": 23,
     "metadata": {},
     "output_type": "execute_result"
    }
   ],
   "source": [
    "all_ = {'변수' : ['임대료', '직장 인구', '음식점 수', '여성 비율', '소득 분위', '인구 수'],\n",
    "       '상관 계수' : [0.491304, 0.389373, 0.246476, 0.154522, 0.090080, -0.362479]}\n",
    "all_ = DataFrame(all_)\n",
    "all_.set_index('변수', inplace=True)\n",
    "all_"
   ]
  },
  {
   "cell_type": "code",
   "execution_count": 25,
   "id": "d750975b",
   "metadata": {},
   "outputs": [
    {
     "data": {
      "image/png": "[encoded data removed]",
      "text/plain": [
       "<Figure size 720x720 with 1 Axes>"
      ]
     },
     "metadata": {},
     "output_type": "display_data"
    }
   ],
   "source": [
    "plt.figure()\n",
    "all_['상관 계수'].sort_values().plot(kind='barh', grid=True, figsize=(10, 10))\n",
    "plt.title('상관 계수')\n",
    "plt.show()"
   ]
  },
  {
   "cell_type": "code",
   "execution_count": 26,
   "id": "5037ee9a",
   "metadata": {},
   "outputs": [
    {
     "data": {
      "text/html": [
       "<div>\n",
       "<style scoped>\n",
       "    .dataframe tbody tr th:only-of-type {\n",
       "        vertical-align: middle;\n",
       "    }\n",
       "\n",
       "    .dataframe tbody tr th {\n",
       "        vertical-align: top;\n",
       "    }\n",
       "\n",
       "    .dataframe thead th {\n",
       "        text-align: right;\n",
       "    }\n",
       "</style>\n",
       "<table border=\"1\" class=\"dataframe\">\n",
       "  <thead>\n",
       "    <tr style=\"text-align: right;\">\n",
       "      <th></th>\n",
       "      <th>상관 계수</th>\n",
       "    </tr>\n",
       "    <tr>\n",
       "      <th>변수</th>\n",
       "      <th></th>\n",
       "    </tr>\n",
       "  </thead>\n",
       "  <tbody>\n",
       "    <tr>\n",
       "      <th>음식점 수</th>\n",
       "      <td>0.267195</td>\n",
       "    </tr>\n",
       "    <tr>\n",
       "      <th>직장 인구</th>\n",
       "      <td>0.186650</td>\n",
       "    </tr>\n",
       "    <tr>\n",
       "      <th>여성 비율</th>\n",
       "      <td>0.162325</td>\n",
       "    </tr>\n",
       "    <tr>\n",
       "      <th>소득 분위</th>\n",
       "      <td>0.057672</td>\n",
       "    </tr>\n",
       "    <tr>\n",
       "      <th>인구 수</th>\n",
       "      <td>-0.256949</td>\n",
       "    </tr>\n",
       "  </tbody>\n",
       "</table>\n",
       "</div>"
      ],
      "text/plain": [
       "          상관 계수\n",
       "변수             \n",
       "음식점 수  0.267195\n",
       "직장 인구  0.186650\n",
       "여성 비율  0.162325\n",
       "소득 분위  0.057672\n",
       "인구 수  -0.256949"
      ]
     },
     "execution_count": 26,
     "metadata": {},
     "output_type": "execute_result"
    }
   ],
   "source": [
    "c_2 = {'변수' : ['음식점 수', '직장 인구', '여성 비율', '소득 분위', '인구 수'],\n",
    "       '상관 계수' : [0.267195, 0.186650, 0.162325, 0.057672, -0.256949]}\n",
    "c_2 = DataFrame(c_2)\n",
    "c_2.set_index('변수', inplace=True)\n",
    "c_2"
   ]
  },
  {
   "cell_type": "code",
   "execution_count": 27,
   "id": "1cde7728",
   "metadata": {},
   "outputs": [
    {
     "data": {
      "image/png": "[encoded data removed]",
      "text/plain": [
       "<Figure size 720x720 with 1 Axes>"
      ]
     },
     "metadata": {},
     "output_type": "display_data"
    }
   ],
   "source": [
    "plt.figure()\n",
    "c_2['상관 계수'].sort_values().plot(kind='barh', grid=True, figsize=(10, 10))\n",
    "plt.title('상관 계수')\n",
    "plt.show()"
   ]
  },
  {
   "cell_type": "code",
   "execution_count": 30,
   "id": "fc8b8a4c",
   "metadata": {},
   "outputs": [
    {
     "data": {
      "text/html": [
       "<div>\n",
       "<style scoped>\n",
       "    .dataframe tbody tr th:only-of-type {\n",
       "        vertical-align: middle;\n",
       "    }\n",
       "\n",
       "    .dataframe tbody tr th {\n",
       "        vertical-align: top;\n",
       "    }\n",
       "\n",
       "    .dataframe thead th {\n",
       "        text-align: right;\n",
       "    }\n",
       "</style>\n",
       "<table border=\"1\" class=\"dataframe\">\n",
       "  <thead>\n",
       "    <tr style=\"text-align: right;\">\n",
       "      <th></th>\n",
       "      <th>상관 계수</th>\n",
       "    </tr>\n",
       "    <tr>\n",
       "      <th>변수</th>\n",
       "      <th></th>\n",
       "    </tr>\n",
       "  </thead>\n",
       "  <tbody>\n",
       "    <tr>\n",
       "      <th>여성 비율</th>\n",
       "      <td>0.274268</td>\n",
       "    </tr>\n",
       "    <tr>\n",
       "      <th>음식점 수</th>\n",
       "      <td>-0.061064</td>\n",
       "    </tr>\n",
       "    <tr>\n",
       "      <th>소득 분위</th>\n",
       "      <td>-0.072666</td>\n",
       "    </tr>\n",
       "    <tr>\n",
       "      <th>직장 인구</th>\n",
       "      <td>-0.215594</td>\n",
       "    </tr>\n",
       "    <tr>\n",
       "      <th>인구 수</th>\n",
       "      <td>-0.245236</td>\n",
       "    </tr>\n",
       "  </tbody>\n",
       "</table>\n",
       "</div>"
      ],
      "text/plain": [
       "          상관 계수\n",
       "변수             \n",
       "여성 비율  0.274268\n",
       "음식점 수 -0.061064\n",
       "소득 분위 -0.072666\n",
       "직장 인구 -0.215594\n",
       "인구 수  -0.245236"
      ]
     },
     "execution_count": 30,
     "metadata": {},
     "output_type": "execute_result"
    }
   ],
   "source": [
    "c_3 = {'변수' : ['여성 비율', '음식점 수', '소득 분위', '직장 인구', '인구 수'],\n",
    "       '상관 계수' : [0.274268, -0.061064, -0.072666, -0.215594, -0.245236]}\n",
    "c_3 = DataFrame(c_3)\n",
    "c_3.set_index('변수', inplace=True)\n",
    "c_3"
   ]
  },
  {
   "cell_type": "code",
   "execution_count": 31,
   "id": "e9d9ed7f",
   "metadata": {},
   "outputs": [
    {
     "data": {
      "image/png": "[encoded data removed]",
      "text/plain": [
       "<Figure size 720x720 with 1 Axes>"
      ]
     },
     "metadata": {},
     "output_type": "display_data"
    }
   ],
   "source": [
    "plt.figure()\n",
    "c_3['상관 계수'].sort_values().plot(kind='barh', grid=True, figsize=(10, 10))\n",
    "plt.title('상관 계수')\n",
    "plt.show()"
   ]
  }
 ],
 "metadata": {
  "kernelspec": {
   "display_name": "Python 3",
   "language": "python",
   "name": "python3"
  },
  "language_info": {
   "codemirror_mode": {
    "name": "ipython",
    "version": 3
   },
   "file_extension": ".py",
   "mimetype": "text/x-python",
   "name": "python",
   "nbconvert_exporter": "python",
   "pygments_lexer": "ipython3",
   "version": "3.8.8"
  }
 },
 "nbformat": 4,
 "nbformat_minor": 5
}
